{
 "cells": [
  {
   "cell_type": "code",
   "execution_count": 24,
   "metadata": {},
   "outputs": [],
   "source": [
    "import numpy as np \n",
    "import pandas as pd\n",
    "%matplotlib inline\n",
    "import matplotlib.pyplot as plt\n",
    "import seaborn as sns "
   ]
  },
  {
   "cell_type": "code",
   "execution_count": 2,
   "metadata": {},
   "outputs": [],
   "source": [
    "sales = pd.read_csv('kc_house_data.csv')\n",
    "#sales.dtypes"
   ]
  },
  {
   "cell_type": "code",
   "execution_count": 3,
   "metadata": {},
   "outputs": [],
   "source": [
    "sales['id'] = sales['id'].astype(str)\n",
    "sales['date'] = sales['date'].astype(str)\n",
    "sales['bedrooms'] = sales['bedrooms'].astype(float)\n",
    "#sales['sqft_living'] = sales['sqft_living'].astype(float)\n",
    "sales['floors'] = sales['floors'].astype(str)\n",
    "sales['zipcode'] = sales['zipcode'].astype(str)\n",
    "sales['sqft_living15'] = sales['sqft_living15'].astype(float)\n",
    "sales['sqft_lot15'] = sales['sqft_lot15'].astype(float)"
   ]
  },
  {
   "cell_type": "code",
   "execution_count": 4,
   "metadata": {},
   "outputs": [
    {
     "data": {
      "text/plain": [
       "False"
      ]
     },
     "execution_count": 4,
     "metadata": {},
     "output_type": "execute_result"
    }
   ],
   "source": [
    "sales.isnull().values.any()"
   ]
  },
  {
   "cell_type": "markdown",
   "metadata": {},
   "source": [
    "# Exploring the data"
   ]
  },
  {
   "cell_type": "code",
   "execution_count": null,
   "metadata": {},
   "outputs": [],
   "source": []
  },
  {
   "cell_type": "code",
   "execution_count": null,
   "metadata": {},
   "outputs": [],
   "source": []
  },
  {
   "cell_type": "code",
   "execution_count": null,
   "metadata": {},
   "outputs": [],
   "source": []
  },
  {
   "cell_type": "markdown",
   "metadata": {},
   "source": [
    "### Split the data"
   ]
  },
  {
   "cell_type": "code",
   "execution_count": 5,
   "metadata": {},
   "outputs": [],
   "source": [
    "from sklearn import linear_model\n",
    "from sklearn.model_selection import train_test_split"
   ]
  },
  {
   "cell_type": "code",
   "execution_count": 6,
   "metadata": {},
   "outputs": [],
   "source": [
    "train_data,test_data = train_test_split(sales, test_size =.2)"
   ]
  },
  {
   "cell_type": "code",
   "execution_count": 7,
   "metadata": {},
   "outputs": [
    {
     "name": "stdout",
     "output_type": "stream",
     "text": [
      "average price via method 1: 540088.1417665294\n",
      "average price via method 2: 540088.1417665294\n"
     ]
    }
   ],
   "source": [
    "prices = sales['price']\n",
    "sum_prices = sum(prices)\n",
    "num_prices = len(prices)\n",
    "avr_prices1 = sum_prices/num_prices\n",
    "avr_prices2 = prices.mean()\n",
    "print(\"average price via method 1: \"+str(avr_prices1))\n",
    "print(\"average price via method 2: \"+str(avr_prices2))"
   ]
  },
  {
   "cell_type": "markdown",
   "metadata": {},
   "source": [
    "# Simple Linear Regression using a closed form solution"
   ]
  },
  {
   "cell_type": "code",
   "execution_count": 56,
   "metadata": {},
   "outputs": [],
   "source": [
    "#Calculating the slope and the intercept for the linear regression function\n",
    "def SLNF(x,y):\n",
    "    n = len(x)\n",
    "    numerator_1 = (n*sum(x*y))-(sum(x)*sum(y))\n",
    "    denominator_1 = (n*sum(x^2))-(sum(x))^2\n",
    "    slope = numerator_1/denominator_1\n",
    "    #intercept = y.mean()-(slope*x.mean())\n",
    "    numerator_2 = (sum(y)*sum(x^2))- (sum(x)*sum(x*y))\n",
    "    intercept = numerator_2/denominator_1\n",
    "    return (slope,intercept)"
   ]
  },
  {
   "cell_type": "code",
   "execution_count": 57,
   "metadata": {},
   "outputs": [
    {
     "name": "stdout",
     "output_type": "stream",
     "text": [
      "Slope: 114354.4789671526\n",
      "Intercept: -1361123122.2051513\n"
     ]
    }
   ],
   "source": [
    "(train_data_slope, train_data_intercept) = SLNF(train_data['sqft_living'], train_data['price'])\n",
    "print('Slope: '+str(train_data_slope))\n",
    "print('Intercept: '+str(train_data_intercept))"
   ]
  },
  {
   "cell_type": "code",
   "execution_count": 63,
   "metadata": {},
   "outputs": [],
   "source": [
    "def slnf(x,y):\n",
    "    n = len(x)\n",
    "    s_x = sum(x)\n",
    "    s_y = sum(y)\n",
    "    product = x*y\n",
    "    s_product = sum(product)\n",
    "    sq_x = x^2\n",
    "    s_sq_x = sum(sq_x)\n",
    "    sq_y = y*y\n",
    "    s_sq_y = sum(sq_y)\n",
    "    slope = (n*s_product - (s_x*s_y))/(n*s_sq_x - s_x^2)\n",
    "    intercept = ((s_y*s_sq_x)- (s_x*s_product)) / (n*s_sq_x - s_x^2)\n",
    "    #intercept = y.mean() - (slope*(x.mean()))\n",
    "    return (slope, intercept)"
   ]
  },
  {
   "cell_type": "code",
   "execution_count": 64,
   "metadata": {},
   "outputs": [
    {
     "name": "stdout",
     "output_type": "stream",
     "text": [
      "Slope: 114354.4789671526\n",
      "Intercept: -1361123122.2051513\n"
     ]
    }
   ],
   "source": [
    "(data_slope, data_intercept) = slnf(train_data['sqft_living'], train_data['price'])\n",
    "print('Slope: '+str(data_slope))\n",
    "print('Intercept: '+str(data_intercept))"
   ]
  },
  {
   "cell_type": "markdown",
   "metadata": {},
   "source": [
    "## Predicting new values"
   ]
  },
  {
   "cell_type": "code",
   "execution_count": 58,
   "metadata": {},
   "outputs": [],
   "source": [
    "def get_regression_predictions(x, intercept, slope):\n",
    "    predicted_values = intercept + (slope*x)\n",
    "    return predicted_values"
   ]
  },
  {
   "cell_type": "code",
   "execution_count": 59,
   "metadata": {},
   "outputs": [],
   "source": [
    "predicted_values = get_regression_predictions(test_data['sqft_living'], train_data_intercept, train_data_slope)"
   ]
  },
  {
   "cell_type": "code",
   "execution_count": 60,
   "metadata": {},
   "outputs": [
    {
     "data": {
      "text/plain": [
       "(10967   -1.084385e+09\n",
       " 18286   -1.130127e+09\n",
       " 6942    -1.072950e+09\n",
       " 14350   -1.091247e+09\n",
       " 11293   -1.172438e+09\n",
       " 6120    -1.278788e+09\n",
       " 10055   -1.147280e+09\n",
       " 14636   -1.161003e+09\n",
       " 14037   -1.019203e+09\n",
       " 1237    -1.172438e+09\n",
       " 10780   -1.096964e+09\n",
       " 11286   -1.198740e+09\n",
       " 12387   -8.884961e+08\n",
       " 15991   -1.189591e+09\n",
       " 21500   -1.083242e+09\n",
       " 4829    -1.269640e+09\n",
       " 17798   -1.225041e+09\n",
       " 7186    -1.239907e+09\n",
       " 17868   -1.245625e+09\n",
       " 182     -1.082098e+09\n",
       " 4731    -1.126696e+09\n",
       " 399     -1.186161e+09\n",
       " 11433   -1.191878e+09\n",
       " 6326    -1.106113e+09\n",
       " 7069    -1.074093e+09\n",
       " 14777   -1.092390e+09\n",
       " 2924    -1.218180e+09\n",
       " 1028    -1.190735e+09\n",
       " 1591    -1.198740e+09\n",
       " 4865    -1.204457e+09\n",
       "              ...     \n",
       " 11498   -9.254326e+08\n",
       " 2239    -1.195309e+09\n",
       " 17991   -1.215893e+09\n",
       " 4587    -1.107256e+09\n",
       " 13377   -1.130127e+09\n",
       " 19857   -1.006624e+09\n",
       " 11312   -1.245625e+09\n",
       " 13167   -1.138132e+09\n",
       " 19137   -1.156429e+09\n",
       " 637     -1.205601e+09\n",
       " 5005    -9.929017e+08\n",
       " 2883    -1.227328e+09\n",
       " 8837    -1.117548e+09\n",
       " 12296   -1.253630e+09\n",
       " 14104   -1.120979e+09\n",
       " 14256   -1.187304e+09\n",
       " 13875   -1.079811e+09\n",
       " 16888   -7.195945e+08\n",
       " 12910   -1.245625e+09\n",
       " 13187   -1.067232e+09\n",
       " 6019    -1.000907e+09\n",
       " 2313    -1.158716e+09\n",
       " 13702   -1.207888e+09\n",
       " 16008   -1.159859e+09\n",
       " 15569   -1.133558e+09\n",
       " 1878    -9.963323e+08\n",
       " 3502    -1.263922e+09\n",
       " 8285    -1.147280e+09\n",
       " 7033    -1.109543e+09\n",
       " 16452   -1.191878e+09\n",
       " Name: sqft_living, Length: 4323, dtype: float64, 10967     282000.0\n",
       " 18286     556000.0\n",
       " 6942      565000.0\n",
       " 14350     525000.0\n",
       " 11293     559500.0\n",
       " 6120      185000.0\n",
       " 10055     375000.0\n",
       " 14636     335000.0\n",
       " 14037    1075000.0\n",
       " 1237      438000.0\n",
       " 10780     750000.0\n",
       " 11286     278000.0\n",
       " 12387     979500.0\n",
       " 15991     765000.0\n",
       " 21500     443000.0\n",
       " 4829      339950.0\n",
       " 17798     275000.0\n",
       " 7186      275500.0\n",
       " 17868     283700.0\n",
       " 182       589000.0\n",
       " 4731      530000.0\n",
       " 399       269900.0\n",
       " 11433     245000.0\n",
       " 6326      415000.0\n",
       " 7069      750000.0\n",
       " 14777     299000.0\n",
       " 2924      353000.0\n",
       " 1028      245000.0\n",
       " 1591      475000.0\n",
       " 4865      268000.0\n",
       "            ...    \n",
       " 11498     966000.0\n",
       " 2239      205000.0\n",
       " 17991     343000.0\n",
       " 4587      585000.0\n",
       " 13377     599950.0\n",
       " 19857     435000.0\n",
       " 11312     279000.0\n",
       " 13167     530000.0\n",
       " 19137     179000.0\n",
       " 637       245000.0\n",
       " 5005      430000.0\n",
       " 2883      525000.0\n",
       " 8837      360000.0\n",
       " 12296     185900.0\n",
       " 14104     521900.0\n",
       " 14256     375000.0\n",
       " 13875     620000.0\n",
       " 16888     995000.0\n",
       " 12910     429000.0\n",
       " 13187     626000.0\n",
       " 6019      600000.0\n",
       " 2313      243000.0\n",
       " 13702     230000.0\n",
       " 16008     215000.0\n",
       " 15569     309950.0\n",
       " 1878      832000.0\n",
       " 3502      389000.0\n",
       " 8285      456000.0\n",
       " 7033      365000.0\n",
       " 16452     600000.0\n",
       " Name: price, Length: 4323, dtype: float64)"
      ]
     },
     "execution_count": 60,
     "metadata": {},
     "output_type": "execute_result"
    }
   ],
   "source": [
    "predicted_values, test_data['price']"
   ]
  },
  {
   "cell_type": "code",
   "execution_count": 22,
   "metadata": {},
   "outputs": [
    {
     "name": "stdout",
     "output_type": "stream",
     "text": [
      "The estimated price for a house with 2650 squarefeet is $65669091.28\n"
     ]
    }
   ],
   "source": [
    "my_house_sqft = 2650\n",
    "estimated_price = get_regression_predictions(my_house_sqft, train_data_intercept, train_data_slope)\n",
    "print (\"The estimated price for a house with %d squarefeet is $%.2f\" % (my_house_sqft, estimated_price))"
   ]
  },
  {
   "cell_type": "markdown",
   "metadata": {},
   "source": [
    "##  Compute Residual Sum of Squares"
   ]
  },
  {
   "cell_type": "code",
   "execution_count": 43,
   "metadata": {},
   "outputs": [],
   "source": [
    "def rss(y, x, intercept, slope):\n",
    "    predicted_values = intercept + (slope*x)\n",
    "    R = (y-predicted_values)\n",
    "    RS = R*R\n",
    "    RSS = sum(RS)\n",
    "    return RSS   "
   ]
  },
  {
   "cell_type": "code",
   "execution_count": 44,
   "metadata": {},
   "outputs": [
    {
     "name": "stdout",
     "output_type": "stream",
     "text": [
      "RSS: 1394373032.4196465\n"
     ]
    }
   ],
   "source": [
    "RSS = rss(test_data['price'], test_data['sqft_living'], train_data_intercept, train_data_slope)\n",
    "print('RSS: '+str(RSS))"
   ]
  },
  {
   "cell_type": "code",
   "execution_count": null,
   "metadata": {},
   "outputs": [],
   "source": []
  }
 ],
 "metadata": {
  "kernelspec": {
   "display_name": "Python 3",
   "language": "python",
   "name": "python3"
  },
  "language_info": {
   "codemirror_mode": {
    "name": "ipython",
    "version": 3
   },
   "file_extension": ".py",
   "mimetype": "text/x-python",
   "name": "python",
   "nbconvert_exporter": "python",
   "pygments_lexer": "ipython3",
   "version": "3.6.5"
  }
 },
 "nbformat": 4,
 "nbformat_minor": 2
}

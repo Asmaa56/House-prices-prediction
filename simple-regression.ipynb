{
 "cells": [
  {
   "cell_type": "code",
   "execution_count": 1,
   "metadata": {},
   "outputs": [],
   "source": [
    "import numpy as np \n",
    "import pandas as pd\n",
    "%matplotlib inline\n",
    "import matplotlib.pyplot as plt\n",
    "import seaborn as sns "
   ]
  },
  {
   "cell_type": "code",
   "execution_count": 2,
   "metadata": {},
   "outputs": [],
   "source": [
    "sales = pd.read_csv('kc_house_data.csv')\n",
    "#sales.dtypes"
   ]
  },
  {
   "cell_type": "code",
   "execution_count": 3,
   "metadata": {},
   "outputs": [],
   "source": [
    "sales['id'] = sales['id'].astype(str)\n",
    "sales['date'] = sales['date'].astype(str)\n",
    "sales['bedrooms'] = sales['bedrooms'].astype(float)\n",
    "#sales['sqft_living'] = sales['sqft_living'].astype(float)\n",
    "sales['floors'] = sales['floors'].astype(str)\n",
    "sales['zipcode'] = sales['zipcode'].astype(str)\n",
    "sales['sqft_living15'] = sales['sqft_living15'].astype(float)\n",
    "sales['sqft_lot15'] = sales['sqft_lot15'].astype(float)"
   ]
  },
  {
   "cell_type": "code",
   "execution_count": 4,
   "metadata": {},
   "outputs": [
    {
     "data": {
      "text/plain": [
       "False"
      ]
     },
     "execution_count": 4,
     "metadata": {},
     "output_type": "execute_result"
    }
   ],
   "source": [
    "sales.isnull().values.any()"
   ]
  },
  {
   "cell_type": "markdown",
   "metadata": {},
   "source": [
    "# Exploring the data"
   ]
  },
  {
   "cell_type": "code",
   "execution_count": null,
   "metadata": {},
   "outputs": [],
   "source": []
  },
  {
   "cell_type": "code",
   "execution_count": null,
   "metadata": {},
   "outputs": [],
   "source": []
  },
  {
   "cell_type": "code",
   "execution_count": null,
   "metadata": {},
   "outputs": [],
   "source": []
  },
  {
   "cell_type": "markdown",
   "metadata": {},
   "source": [
    "### Split the data"
   ]
  },
  {
   "cell_type": "code",
   "execution_count": 5,
   "metadata": {},
   "outputs": [],
   "source": [
    "from sklearn import linear_model\n",
    "from sklearn.model_selection import train_test_split"
   ]
  },
  {
   "cell_type": "code",
   "execution_count": 6,
   "metadata": {},
   "outputs": [],
   "source": [
    "train_data,test_data = train_test_split(sales, test_size =.2)"
   ]
  },
  {
   "cell_type": "code",
   "execution_count": 7,
   "metadata": {},
   "outputs": [
    {
     "name": "stdout",
     "output_type": "stream",
     "text": [
      "average price via method 1: 540088.1417665294\n",
      "average price via method 2: 540088.1417665294\n"
     ]
    }
   ],
   "source": [
    "prices = sales['price']\n",
    "sum_prices = sum(prices)\n",
    "num_prices = len(prices)\n",
    "avr_prices1 = sum_prices/num_prices\n",
    "avr_prices2 = prices.mean()\n",
    "print(\"average price via method 1: \"+str(avr_prices1))\n",
    "print(\"average price via method 2: \"+str(avr_prices2))"
   ]
  },
  {
   "cell_type": "markdown",
   "metadata": {},
   "source": [
    "# Simple Linear Regression using a closed form solution"
   ]
  },
  {
   "cell_type": "code",
   "execution_count": 21,
   "metadata": {},
   "outputs": [],
   "source": [
    "#Calculating the slope and the intercept for the linear regression function\n",
    "#def SLNF(x,y):\n",
    "   # n = len(x)\n",
    "   # numerator_1 = (n*sum(x*y))-(sum(x)*sum(y))\n",
    "   # denominator_1 = (n*sum(x^2))-(sum(x))^2\n",
    "    #slope = numerator_1/denominator_1\n",
    "    #intercept = y.mean()-(slope*x.mean())\n",
    "   # numerator_2 = (sum(y)*sum(x^2))- (sum(x)*sum(x*y))\n",
    "   # intercept = numerator_2/denominator_1\n",
    "   # return (slope,intercept)"
   ]
  },
  {
   "cell_type": "code",
   "execution_count": 26,
   "metadata": {},
   "outputs": [],
   "source": [
    "#Calculating the slope and the intercept for the linear regression function\n",
    "def SLNF(x,y):\n",
    "    n = len(x)\n",
    "    sum_y = sum(y)\n",
    "    sum_x = sum(x)\n",
    "    sum_product = sum(x*y)\n",
    "    sum_x_s = sum(x*x)\n",
    "    #slope\n",
    "    numerator = sum_product - ((1/n)*(sum_x*sum_y))\n",
    "    denominator = sum_x_s - ((1/n)*(sum_x*sum_x))\n",
    "    slope = numerator/denominator\n",
    "    #intercept\n",
    "    intercept = y.mean() - (slope*x.mean())\n",
    "    return (slope,intercept)"
   ]
  },
  {
   "cell_type": "code",
   "execution_count": 27,
   "metadata": {},
   "outputs": [
    {
     "name": "stdout",
     "output_type": "stream",
     "text": [
      "Slope: 278.00974590283397\n",
      "Intercept: -39495.83906857821\n"
     ]
    }
   ],
   "source": [
    "(train_data_slope, train_data_intercept) = SLNF(train_data['sqft_living'], train_data['price'])\n",
    "print('Slope: '+str(train_data_slope))\n",
    "print('Intercept: '+str(train_data_intercept))"
   ]
  },
  {
   "cell_type": "code",
   "execution_count": 24,
   "metadata": {},
   "outputs": [],
   "source": [
    "#def slnf(x,y):\n",
    "    #n = len(x)\n",
    "   # s_x = sum(x)\n",
    "    #s_y = sum(y)\n",
    "   # product = x*y\n",
    "    #s_product = sum(product)\n",
    "    #sq_x = x^2\n",
    "    #s_sq_x = sum(sq_x)\n",
    "    #sq_y = y*y\n",
    "    #s_sq_y = sum(sq_y)\n",
    "   # slope = (n*s_product - (s_x*s_y))/(n*s_sq_x - s_x^2)\n",
    "    #intercept = ((s_y*s_sq_x)- (s_x*s_product)) / (n*s_sq_x - s_x^2)\n",
    "    #intercept = y.mean() - (slope*(x.mean()))\n",
    "    #return (slope, intercept)"
   ]
  },
  {
   "cell_type": "code",
   "execution_count": 25,
   "metadata": {},
   "outputs": [],
   "source": [
    "#(data_slope, data_intercept) = slnf(train_data['sqft_living'], train_data['price'])\n",
    "#print('Slope: '+str(data_slope))\n",
    "#print('Intercept: '+str(data_intercept))"
   ]
  },
  {
   "cell_type": "markdown",
   "metadata": {},
   "source": [
    "## Predicting new values"
   ]
  },
  {
   "cell_type": "code",
   "execution_count": 28,
   "metadata": {},
   "outputs": [],
   "source": [
    "def get_regression_predictions(x, intercept, slope):\n",
    "    predicted_values = intercept + (slope*x)\n",
    "    return predicted_values"
   ]
  },
  {
   "cell_type": "code",
   "execution_count": 29,
   "metadata": {},
   "outputs": [],
   "source": [
    "predicted_values = get_regression_predictions(test_data['sqft_living'], train_data_intercept, train_data_slope)"
   ]
  },
  {
   "cell_type": "code",
   "execution_count": 30,
   "metadata": {},
   "outputs": [
    {
     "data": {
      "text/plain": [
       "(16930    480382.385770\n",
       " 16051    274655.173802\n",
       " 10651    335817.317900\n",
       " 19694    605486.771426\n",
       " 15379    485942.580688\n",
       " 21481    447021.216261\n",
       " 4722     452581.411179\n",
       " 9982     772292.618968\n",
       " 13550    919637.784296\n",
       " 3577     524863.945114\n",
       " 5129     905737.297001\n",
       " 9416     396979.461999\n",
       " 12751    449801.313720\n",
       " 10875    483162.483229\n",
       " 7394     869596.030034\n",
       " 14536    352497.902654\n",
       " 15942    502623.165442\n",
       " 14135    366398.389950\n",
       " 13111    711130.474869\n",
       " 10394    647188.233311\n",
       " 8264     282995.466179\n",
       " 12347    452581.411179\n",
       " 2481     555445.017163\n",
       " 294      508183.360360\n",
       " 7411     533204.237491\n",
       " 16570    294115.856015\n",
       " 4571     366398.389950\n",
       " 7826     380298.877245\n",
       " 460      919637.784296\n",
       " 15055    544324.627327\n",
       "              ...      \n",
       " 8076     583245.991754\n",
       " 1062     750051.839295\n",
       " 17570    997480.513149\n",
       " 20988    841795.055443\n",
       " 15212    260754.686506\n",
       " 2472     380298.877245\n",
       " 17867    227393.516998\n",
       " 15525    472042.093393\n",
       " 18898    466481.898475\n",
       " 16519    410879.949294\n",
       " 5646     399759.559458\n",
       " 1570     822334.373230\n",
       " 2095     552664.919704\n",
       " 10427    649968.330770\n",
       " 6396     194032.347490\n",
       " 9351     574905.699377\n",
       " 6294     369178.487409\n",
       " 2985     552664.919704\n",
       " 7569     652748.428229\n",
       " 1512     766732.424050\n",
       " 14306    166231.372900\n",
       " 17593    797313.496099\n",
       " 7215     791753.301181\n",
       " 571      850135.347820\n",
       " 9563     216273.127162\n",
       " 7783     152330.885604\n",
       " 13004    566565.407000\n",
       " 17572    413660.046753\n",
       " 16440    700010.085033\n",
       " 4781     649968.330770\n",
       " Name: sqft_living, Length: 4323, dtype: float64, 16930     350500.0\n",
       " 16051     315450.0\n",
       " 10651     439000.0\n",
       " 19694     340000.0\n",
       " 15379     344500.0\n",
       " 21481     495000.0\n",
       " 4722      440000.0\n",
       " 9982      730000.0\n",
       " 13550     905000.0\n",
       " 3577      253779.0\n",
       " 5129      950000.0\n",
       " 9416      447450.0\n",
       " 12751     470000.0\n",
       " 10875     475000.0\n",
       " 7394      987500.0\n",
       " 14536     415000.0\n",
       " 15942     392500.0\n",
       " 14135     260000.0\n",
       " 13111     381000.0\n",
       " 10394     405000.0\n",
       " 8264      315500.0\n",
       " 12347     675000.0\n",
       " 2481      236500.0\n",
       " 294       550000.0\n",
       " 7411      450000.0\n",
       " 16570     340000.0\n",
       " 4571      527200.0\n",
       " 7826      299000.0\n",
       " 460      1050000.0\n",
       " 15055    1081000.0\n",
       "            ...    \n",
       " 8076      450000.0\n",
       " 1062      790000.0\n",
       " 17570     840000.0\n",
       " 20988     820000.0\n",
       " 15212     350000.0\n",
       " 2472      549000.0\n",
       " 17867     255000.0\n",
       " 15525     262000.0\n",
       " 18898     325000.0\n",
       " 16519     425000.0\n",
       " 5646      720000.0\n",
       " 1570      539950.0\n",
       " 2095      800000.0\n",
       " 10427    1200000.0\n",
       " 6396      178000.0\n",
       " 9351      263500.0\n",
       " 6294      265953.0\n",
       " 2985      802000.0\n",
       " 7569      527900.0\n",
       " 1512      413000.0\n",
       " 14306     392800.0\n",
       " 17593     754999.0\n",
       " 7215      779950.0\n",
       " 571       720000.0\n",
       " 9563      650000.0\n",
       " 7783      338000.0\n",
       " 13004     490000.0\n",
       " 17572     312900.0\n",
       " 16440     667400.0\n",
       " 4781      717000.0\n",
       " Name: price, Length: 4323, dtype: float64)"
      ]
     },
     "execution_count": 30,
     "metadata": {},
     "output_type": "execute_result"
    }
   ],
   "source": [
    "predicted_values, test_data['price']"
   ]
  },
  {
   "cell_type": "code",
   "execution_count": 31,
   "metadata": {},
   "outputs": [
    {
     "name": "stdout",
     "output_type": "stream",
     "text": [
      "The estimated price for a house with 2650 squarefeet is $697229.99\n"
     ]
    }
   ],
   "source": [
    "my_house_sqft = 2650\n",
    "estimated_price = get_regression_predictions(my_house_sqft, train_data_intercept, train_data_slope)\n",
    "print (\"The estimated price for a house with %d squarefeet is $%.2f\" % (my_house_sqft, estimated_price))"
   ]
  },
  {
   "cell_type": "markdown",
   "metadata": {},
   "source": [
    "##  Compute Residual Sum of Squares"
   ]
  },
  {
   "cell_type": "code",
   "execution_count": 32,
   "metadata": {},
   "outputs": [],
   "source": [
    "def rss(y, x, intercept, slope):\n",
    "    predicted_values = intercept + (slope*x)\n",
    "    R = (y-predicted_values)\n",
    "    RS = R*R\n",
    "    RSS = sum(RS)\n",
    "    return RSS   "
   ]
  },
  {
   "cell_type": "code",
   "execution_count": 33,
   "metadata": {},
   "outputs": [
    {
     "name": "stdout",
     "output_type": "stream",
     "text": [
      "RSS: 307250339646915.2\n"
     ]
    }
   ],
   "source": [
    "RSS = rss(test_data['price'], test_data['sqft_living'], train_data_intercept, train_data_slope)\n",
    "print('RSS: '+str(RSS))"
   ]
  },
  {
   "cell_type": "code",
   "execution_count": 19,
   "metadata": {},
   "outputs": [
    {
     "data": {
      "text/plain": [
       "2359124448.0"
      ]
     },
     "execution_count": 19,
     "metadata": {},
     "output_type": "execute_result"
    }
   ],
   "source": []
  },
  {
   "cell_type": "code",
   "execution_count": 20,
   "metadata": {},
   "outputs": [
    {
     "data": {
      "text/plain": [
       "2359124448.0"
      ]
     },
     "execution_count": 20,
     "metadata": {},
     "output_type": "execute_result"
    }
   ],
   "source": []
  },
  {
   "cell_type": "code",
   "execution_count": null,
   "metadata": {},
   "outputs": [],
   "source": []
  }
 ],
 "metadata": {
  "kernelspec": {
   "display_name": "Python 3",
   "language": "python",
   "name": "python3"
  },
  "language_info": {
   "codemirror_mode": {
    "name": "ipython",
    "version": 3
   },
   "file_extension": ".py",
   "mimetype": "text/x-python",
   "name": "python",
   "nbconvert_exporter": "python",
   "pygments_lexer": "ipython3",
   "version": "3.6.5"
  }
 },
 "nbformat": 4,
 "nbformat_minor": 2
}

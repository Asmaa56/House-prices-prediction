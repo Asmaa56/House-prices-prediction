{
 "cells": [
  {
   "cell_type": "code",
   "execution_count": 1,
   "metadata": {},
   "outputs": [],
   "source": [
    "import numpy as np \n",
    "import pandas as pd\n",
    "%matplotlib inline\n",
    "import matplotlib.pyplot as plt\n",
    "import seaborn as sns "
   ]
  },
  {
   "cell_type": "code",
   "execution_count": 2,
   "metadata": {},
   "outputs": [],
   "source": [
    "sales = pd.read_csv('kc_house_data.csv')\n",
    "#sales.dtypes"
   ]
  },
  {
   "cell_type": "code",
   "execution_count": 3,
   "metadata": {},
   "outputs": [],
   "source": [
    "sales['id'] = sales['id'].astype(str)\n",
    "sales['date'] = sales['date'].astype(str)\n",
    "#sales['bedrooms'] = sales['bedrooms'].astype(float)\n",
    "#sales['sqft_living'] = sales['sqft_living'].astype(float)\n",
    "sales['floors'] = sales['floors'].astype(str)\n",
    "sales['zipcode'] = sales['zipcode'].astype(str)\n",
    "sales['sqft_living15'] = sales['sqft_living15'].astype(float)\n",
    "sales['sqft_lot15'] = sales['sqft_lot15'].astype(float)"
   ]
  },
  {
   "cell_type": "code",
   "execution_count": 4,
   "metadata": {},
   "outputs": [
    {
     "data": {
      "text/plain": [
       "False"
      ]
     },
     "execution_count": 4,
     "metadata": {},
     "output_type": "execute_result"
    }
   ],
   "source": [
    "sales.isnull().values.any()"
   ]
  },
  {
   "cell_type": "markdown",
   "metadata": {},
   "source": [
    "### Split the data"
   ]
  },
  {
   "cell_type": "code",
   "execution_count": 5,
   "metadata": {},
   "outputs": [],
   "source": [
    "from sklearn import linear_model\n",
    "from sklearn.model_selection import train_test_split"
   ]
  },
  {
   "cell_type": "code",
   "execution_count": 6,
   "metadata": {},
   "outputs": [],
   "source": [
    "train_data,test_data = train_test_split(sales, test_size =.2)"
   ]
  },
  {
   "cell_type": "code",
   "execution_count": 7,
   "metadata": {},
   "outputs": [
    {
     "name": "stdout",
     "output_type": "stream",
     "text": [
      "average price via method 1: 540088.1417665294\n",
      "average price via method 2: 540088.1417665294\n"
     ]
    }
   ],
   "source": [
    "prices = sales['price']\n",
    "sum_prices = sum(prices)\n",
    "num_prices = len(prices)\n",
    "avr_prices1 = sum_prices/num_prices\n",
    "avr_prices2 = prices.mean()\n",
    "print(\"average price via method 1: \"+str(avr_prices1))\n",
    "print(\"average price via method 2: \"+str(avr_prices2))"
   ]
  },
  {
   "cell_type": "markdown",
   "metadata": {},
   "source": [
    "# Simple Linear Regression using a closed form solution"
   ]
  },
  {
   "cell_type": "code",
   "execution_count": 8,
   "metadata": {},
   "outputs": [],
   "source": [
    "#Calculating the slope and the intercept for the linear regression function\n",
    "def SLNF(x,y):\n",
    "    n = len(x)\n",
    "    sum_y = sum(y)\n",
    "    sum_x = sum(x)\n",
    "    sum_product = sum(x*y)\n",
    "    sum_x_s = sum(x*x)\n",
    "    #slope\n",
    "    numerator = sum_product - ((1/n)*(sum_x*sum_y))\n",
    "    denominator = sum_x_s - ((1/n)*(sum_x*sum_x))\n",
    "    slope = numerator/denominator\n",
    "    #intercept\n",
    "    intercept = y.mean() - (slope*x.mean())\n",
    "    return (slope,intercept)"
   ]
  },
  {
   "cell_type": "code",
   "execution_count": 9,
   "metadata": {},
   "outputs": [
    {
     "name": "stdout",
     "output_type": "stream",
     "text": [
      "Slope: 279.027782150836\n",
      "Intercept: -40362.34649145976\n"
     ]
    }
   ],
   "source": [
    "(train_data_slope, train_data_intercept) = SLNF(train_data['sqft_living'], train_data['price'])\n",
    "print('Slope: '+str(train_data_slope))\n",
    "print('Intercept: '+str(train_data_intercept))"
   ]
  },
  {
   "cell_type": "code",
   "execution_count": 10,
   "metadata": {},
   "outputs": [
    {
     "name": "stdout",
     "output_type": "stream",
     "text": [
      "Slope: 1.0\n",
      "Intercept: 1.0\n"
     ]
    }
   ],
   "source": [
    "#Test the SLNF function\n",
    "test_input = np.array(range(10))\n",
    "test_output = np.array(1+(1*test_input))\n",
    "(test_slope, test_intercept) = SLNF(test_input, test_output)\n",
    "print('Slope: '+str(test_slope))\n",
    "print('Intercept: '+str(test_intercept))\n",
    "    "
   ]
  },
  {
   "cell_type": "markdown",
   "metadata": {},
   "source": [
    "## Predicting new values"
   ]
  },
  {
   "cell_type": "code",
   "execution_count": 11,
   "metadata": {},
   "outputs": [],
   "source": [
    "def get_regression_predictions(x, intercept, slope):\n",
    "    predicted_values = intercept + slope*x\n",
    "    return predicted_values"
   ]
  },
  {
   "cell_type": "code",
   "execution_count": 12,
   "metadata": {},
   "outputs": [],
   "source": [
    "predicted_values = get_regression_predictions(test_data['sqft_living'], train_data_intercept, train_data_slope)"
   ]
  },
  {
   "cell_type": "code",
   "execution_count": 13,
   "metadata": {},
   "outputs": [],
   "source": [
    "#predicted_values, test_data['price']"
   ]
  },
  {
   "cell_type": "code",
   "execution_count": 14,
   "metadata": {},
   "outputs": [
    {
     "name": "stdout",
     "output_type": "stream",
     "text": [
      "The estimated price for a house with 2650 squarefeet is $699061.28\n"
     ]
    }
   ],
   "source": [
    "my_house_sqft = 2650\n",
    "estimated_price = get_regression_predictions(my_house_sqft, train_data_intercept, train_data_slope)\n",
    "print (\"The estimated price for a house with %d squarefeet is $%.2f\" % (my_house_sqft, estimated_price))"
   ]
  },
  {
   "cell_type": "markdown",
   "metadata": {},
   "source": [
    "##  Compute Residual Sum of Squares"
   ]
  },
  {
   "cell_type": "code",
   "execution_count": 15,
   "metadata": {},
   "outputs": [],
   "source": [
    "def rss(y, x):\n",
    "    (slope, intercept) = SLNF(x,y)\n",
    "    predicted_values = get_regression_predictions(x,intercept,slope)\n",
    "    R = (y-predicted_values)\n",
    "    RS = R*R\n",
    "    RSS = sum(RS)\n",
    "    return RSS"
   ]
  },
  {
   "cell_type": "code",
   "execution_count": 16,
   "metadata": {},
   "outputs": [
    {
     "data": {
      "text/plain": [
       "0.0"
      ]
     },
     "execution_count": 16,
     "metadata": {},
     "output_type": "execute_result"
    }
   ],
   "source": [
    "#test rss function\n",
    "test_rss = rss(test_output, test_input)\n",
    "test_rss"
   ]
  },
  {
   "cell_type": "code",
   "execution_count": 18,
   "metadata": {},
   "outputs": [
    {
     "name": "stdout",
     "output_type": "stream",
     "text": [
      "RSS: 303874979545411.44\n"
     ]
    }
   ],
   "source": [
    "RSS_sqft = rss(test_data['price'], test_data['sqft_living'])\n",
    "print('RSS: '+str(RSS_sqft))"
   ]
  },
  {
   "cell_type": "code",
   "execution_count": 19,
   "metadata": {},
   "outputs": [],
   "source": [
    "# Inverse regression function\n",
    "def inverse_regression(price,x,y):\n",
    "    (slope, intercept) = SLNF(x,y)\n",
    "    sqft = (price - intercept)/slope\n",
    "    return sqft   "
   ]
  },
  {
   "cell_type": "code",
   "execution_count": 20,
   "metadata": {},
   "outputs": [
    {
     "name": "stdout",
     "output_type": "stream",
     "text": [
      "The stimated square feet for a house costing $800,000 is: 3011.7515181236654 sqft\n"
     ]
    }
   ],
   "source": [
    "print('The stimated square feet for a house costing $800,000 is: '+str(inverse_regression(800000,train_data['sqft_living'],\n",
    "                                                                                          train_data['price']))+' sqft')"
   ]
  },
  {
   "cell_type": "code",
   "execution_count": 21,
   "metadata": {},
   "outputs": [
    {
     "data": {
      "text/plain": [
       "555319075123512.75"
      ]
     },
     "execution_count": 21,
     "metadata": {},
     "output_type": "execute_result"
    }
   ],
   "source": [
    "#use number of bedrooms instead of the sqf\n",
    "RSS_bedrooms = rss(test_data['price'], test_data['bedrooms'])\n",
    "RSS_bedrooms"
   ]
  },
  {
   "cell_type": "code",
   "execution_count": null,
   "metadata": {},
   "outputs": [],
   "source": []
  },
  {
   "cell_type": "code",
   "execution_count": null,
   "metadata": {},
   "outputs": [],
   "source": []
  }
 ],
 "metadata": {
  "kernelspec": {
   "display_name": "Python 3",
   "language": "python",
   "name": "python3"
  },
  "language_info": {
   "codemirror_mode": {
    "name": "ipython",
    "version": 3
   },
   "file_extension": ".py",
   "mimetype": "text/x-python",
   "name": "python",
   "nbconvert_exporter": "python",
   "pygments_lexer": "ipython3",
   "version": "3.6.5"
  }
 },
 "nbformat": 4,
 "nbformat_minor": 2
}

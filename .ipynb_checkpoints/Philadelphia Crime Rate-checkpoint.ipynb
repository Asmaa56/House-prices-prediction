{
 "cells": [
  {
   "cell_type": "code",
   "execution_count": 1,
   "metadata": {},
   "outputs": [],
   "source": [
    "import numpy as np \n",
    "import pandas as pd\n",
    "#matplotlib inline\n",
    "import seaborn as sns\n",
    "import matplotlib.pyplot as plt"
   ]
  },
  {
   "cell_type": "code",
   "execution_count": 2,
   "metadata": {},
   "outputs": [
    {
     "data": {
      "text/html": [
       "<div>\n",
       "<style scoped>\n",
       "    .dataframe tbody tr th:only-of-type {\n",
       "        vertical-align: middle;\n",
       "    }\n",
       "\n",
       "    .dataframe tbody tr th {\n",
       "        vertical-align: top;\n",
       "    }\n",
       "\n",
       "    .dataframe thead th {\n",
       "        text-align: right;\n",
       "    }\n",
       "</style>\n",
       "<table border=\"1\" class=\"dataframe\">\n",
       "  <thead>\n",
       "    <tr style=\"text-align: right;\">\n",
       "      <th></th>\n",
       "      <th>HousePrice</th>\n",
       "      <th>HsPrc ($10,000)</th>\n",
       "      <th>CrimeRate</th>\n",
       "      <th>MilesPhila</th>\n",
       "      <th>PopChg</th>\n",
       "      <th>Name</th>\n",
       "      <th>County</th>\n",
       "    </tr>\n",
       "  </thead>\n",
       "  <tbody>\n",
       "    <tr>\n",
       "      <th>0</th>\n",
       "      <td>140463</td>\n",
       "      <td>14.0463</td>\n",
       "      <td>29.7</td>\n",
       "      <td>10.0</td>\n",
       "      <td>-1.0</td>\n",
       "      <td>Abington</td>\n",
       "      <td>Montgome</td>\n",
       "    </tr>\n",
       "    <tr>\n",
       "      <th>1</th>\n",
       "      <td>113033</td>\n",
       "      <td>11.3033</td>\n",
       "      <td>24.1</td>\n",
       "      <td>18.0</td>\n",
       "      <td>4.0</td>\n",
       "      <td>Ambler</td>\n",
       "      <td>Montgome</td>\n",
       "    </tr>\n",
       "    <tr>\n",
       "      <th>2</th>\n",
       "      <td>124186</td>\n",
       "      <td>12.4186</td>\n",
       "      <td>19.5</td>\n",
       "      <td>25.0</td>\n",
       "      <td>8.0</td>\n",
       "      <td>Aston</td>\n",
       "      <td>Delaware</td>\n",
       "    </tr>\n",
       "    <tr>\n",
       "      <th>3</th>\n",
       "      <td>110490</td>\n",
       "      <td>11.0490</td>\n",
       "      <td>49.4</td>\n",
       "      <td>25.0</td>\n",
       "      <td>2.7</td>\n",
       "      <td>Bensalem</td>\n",
       "      <td>Bucks</td>\n",
       "    </tr>\n",
       "    <tr>\n",
       "      <th>4</th>\n",
       "      <td>79124</td>\n",
       "      <td>7.9124</td>\n",
       "      <td>54.1</td>\n",
       "      <td>19.0</td>\n",
       "      <td>3.9</td>\n",
       "      <td>Bristol B.</td>\n",
       "      <td>Bucks</td>\n",
       "    </tr>\n",
       "  </tbody>\n",
       "</table>\n",
       "</div>"
      ],
      "text/plain": [
       "   HousePrice  HsPrc ($10,000)  CrimeRate  MilesPhila  PopChg        Name  \\\n",
       "0      140463          14.0463       29.7        10.0    -1.0    Abington   \n",
       "1      113033          11.3033       24.1        18.0     4.0      Ambler   \n",
       "2      124186          12.4186       19.5        25.0     8.0       Aston   \n",
       "3      110490          11.0490       49.4        25.0     2.7    Bensalem   \n",
       "4       79124           7.9124       54.1        19.0     3.9  Bristol B.   \n",
       "\n",
       "     County  \n",
       "0  Montgome  \n",
       "1  Montgome  \n",
       "2  Delaware  \n",
       "3     Bucks  \n",
       "4     Bucks  "
      ]
     },
     "execution_count": 2,
     "metadata": {},
     "output_type": "execute_result"
    }
   ],
   "source": [
    "sales = pd.read_csv(\"Philadelphia_Crime_Rate_noNA.csv\")\n",
    "sales.head()"
   ]
  },
  {
   "cell_type": "markdown",
   "metadata": {},
   "source": [
    "#  Exploring the data"
   ]
  },
  {
   "cell_type": "code",
   "execution_count": 3,
   "metadata": {},
   "outputs": [
    {
     "data": {
      "text/plain": [
       "<matplotlib.axes._subplots.AxesSubplot at 0x2a5ec84ddd8>"
      ]
     },
     "execution_count": 3,
     "metadata": {},
     "output_type": "execute_result"
    },
    {
     "data": {
      "image/png": "[encoded data removed]",
      "text/plain": [
       "<Figure size 432x288 with 1 Axes>"
      ]
     },
     "metadata": {},
     "output_type": "display_data"
    }
   ],
   "source": [
    "sns.scatterplot(x=sales['CrimeRate'], y=sales['HousePrice'])"
   ]
  },
  {
   "cell_type": "code",
   "execution_count": 4,
   "metadata": {},
   "outputs": [
    {
     "data": {
      "text/plain": [
       "<matplotlib.axes._subplots.AxesSubplot at 0x2a5ec9217b8>"
      ]
     },
     "execution_count": 4,
     "metadata": {},
     "output_type": "execute_result"
    },
    {
     "data": {
      "image/png": "[encoded data removed]",
      "text/plain": [
       "<Figure size 432x288 with 1 Axes>"
      ]
     },
     "metadata": {},
     "output_type": "display_data"
    }
   ],
   "source": [
    "sns.regplot(x=sales['CrimeRate'], y=sales['HousePrice'], fit_reg=True)"
   ]
  },
  {
   "cell_type": "markdown",
   "metadata": {},
   "source": [
    "## Remove outliers"
   ]
  },
  {
   "cell_type": "code",
   "execution_count": 5,
   "metadata": {},
   "outputs": [
    {
     "data": {
      "text/plain": [
       "<matplotlib.axes._subplots.AxesSubplot at 0x2a5ec8f68d0>"
      ]
     },
     "execution_count": 5,
     "metadata": {},
     "output_type": "execute_result"
    },
    {
     "data": {
      "image/png": "[encoded data removed]",
      "text/plain": [
       "<Figure size 432x288 with 1 Axes>"
      ]
     },
     "metadata": {},
     "output_type": "display_data"
    }
   ],
   "source": [
    "sns.boxplot(x=sales['CrimeRate'])"
   ]
  },
  {
   "cell_type": "code",
   "execution_count": 6,
   "metadata": {},
   "outputs": [
    {
     "data": {
      "text/plain": [
       "array([0.07702019, 0.22694994, 0.35010652, 0.45041125, 0.57624515,\n",
       "       0.42899272, 0.0475697 , 0.58303309, 0.3313653 , 0.32601067,\n",
       "       0.40900749, 0.4745071 , 0.04345907, 0.03007249, 0.35135052,\n",
       "       0.27514164, 0.41560613, 0.35278384, 1.05280757, 0.33528662,\n",
       "       0.03418312, 0.2055314 , 0.14395311, 0.39829822, 0.09576141,\n",
       "       0.2992375 , 0.10647068, 0.08772946, 0.40365286, 0.43042603,\n",
       "       0.39562091, 0.40900749, 0.03686043, 0.48397237, 0.45184456,\n",
       "       0.10647068, 0.3153014 , 0.08772946, 0.35546115, 0.18535687,\n",
       "       0.52413212, 0.22694994, 0.14519712, 0.20142077, 0.0943281 ,\n",
       "       0.16001701, 0.20017677, 0.48129505, 0.38491164, 0.46255383,\n",
       "       0.46523115, 0.40633017, 1.09029   , 0.68209382, 0.53751871,\n",
       "       0.35402784, 0.32993199, 0.8680727 , 0.46379784, 0.59498637,\n",
       "       0.56018125, 0.99926123, 8.92947406, 0.21356335, 0.69672441,\n",
       "       0.5521493 , 0.40633017, 0.4571992 , 0.48397237, 0.22694994,\n",
       "       0.30459213, 0.60980626, 0.07166555, 0.6794165 , 0.35278384,\n",
       "       0.22819394, 0.57232383, 0.30459213, 0.27370833, 0.62051553,\n",
       "       0.77972124, 0.35278384, 0.69548041, 0.44648993, 0.36884774,\n",
       "       0.51877749, 0.05149103, 0.28049628, 0.28049628, 1.05280757,\n",
       "       0.01811922, 0.32190004, 0.10647068, 0.22962726, 0.50271359,\n",
       "       0.07166555, 0.60712895, 0.26710969, 0.52413212])"
      ]
     },
     "execution_count": 6,
     "metadata": {},
     "output_type": "execute_result"
    }
   ],
   "source": [
    "from scipy import stats\n",
    "z = np.abs(stats.zscore(sales['CrimeRate']))\n",
    "z"
   ]
  },
  {
   "cell_type": "code",
   "execution_count": 7,
   "metadata": {},
   "outputs": [
    {
     "data": {
      "text/plain": [
       "(array([62], dtype=int64),)"
      ]
     },
     "execution_count": 7,
     "metadata": {},
     "output_type": "execute_result"
    }
   ],
   "source": [
    "np.where(z>2)"
   ]
  },
  {
   "cell_type": "code",
   "execution_count": 8,
   "metadata": {},
   "outputs": [],
   "source": [
    "sales_2 = sales.drop([62])"
   ]
  },
  {
   "cell_type": "code",
   "execution_count": 9,
   "metadata": {},
   "outputs": [
    {
     "data": {
      "text/plain": [
       "<matplotlib.axes._subplots.AxesSubplot at 0x2a5edc2e048>"
      ]
     },
     "execution_count": 9,
     "metadata": {},
     "output_type": "execute_result"
    },
    {
     "data": {
      "image/png": "[encoded data removed]",
      "text/plain": [
       "<Figure size 432x288 with 1 Axes>"
      ]
     },
     "metadata": {},
     "output_type": "display_data"
    }
   ],
   "source": [
    "sns.scatterplot(x=sales_2['CrimeRate'], y=sales_2['HousePrice'])"
   ]
  },
  {
   "cell_type": "code",
   "execution_count": 10,
   "metadata": {},
   "outputs": [
    {
     "data": {
      "text/plain": [
       "<matplotlib.axes._subplots.AxesSubplot at 0x2a5edc90240>"
      ]
     },
     "execution_count": 10,
     "metadata": {},
     "output_type": "execute_result"
    },
    {
     "data": {
      "image/png": "[encoded data removed]",
      "text/plain": [
       "<Figure size 432x288 with 1 Axes>"
      ]
     },
     "metadata": {},
     "output_type": "display_data"
    }
   ],
   "source": [
    "sns.regplot(x=sales_2['CrimeRate'], y=sales_2['HousePrice'])"
   ]
  },
  {
   "cell_type": "markdown",
   "metadata": {},
   "source": [
    "#import statsmodels.api as sm\n",
    "#import statsmodels.formula.api as smf\n",
    "https://www.statsmodels.org/stable/index.html"
   ]
  },
  {
   "cell_type": "code",
   "execution_count": 11,
   "metadata": {},
   "outputs": [],
   "source": [
    "from sklearn import datasets, linear_model\n",
    "regr = linear_model.LinearRegression()"
   ]
  },
  {
   "cell_type": "code",
   "execution_count": 12,
   "metadata": {},
   "outputs": [],
   "source": [
    "x = np.array(sales['CrimeRate'])\n",
    "x= x.reshape(-1, 1)"
   ]
  },
  {
   "cell_type": "code",
   "execution_count": 13,
   "metadata": {},
   "outputs": [
    {
     "name": "stdout",
     "output_type": "stream",
     "text": [
      "Coefficients: \n",
      " [-576.90812768]\n",
      "Intercept: \n",
      " 176629.40810695427\n"
     ]
    }
   ],
   "source": [
    "regr.fit(x,sales['HousePrice'])\n",
    "print('Coefficients: \\n', regr.coef_)\n",
    "print('Intercept: \\n', regr.intercept_)"
   ]
  },
  {
   "cell_type": "code",
   "execution_count": 14,
   "metadata": {},
   "outputs": [],
   "source": [
    "x_2= np.array(sales_2['CrimeRate'])\n",
    "x_2 = x_2.reshape(-1, 1)"
   ]
  },
  {
   "cell_type": "code",
   "execution_count": 15,
   "metadata": {},
   "outputs": [
    {
     "name": "stdout",
     "output_type": "stream",
     "text": [
      "Coefficients: \n",
      " [-2288.68942995]\n",
      "Intercept: \n",
      " 225233.5518390038\n"
     ]
    }
   ],
   "source": [
    "regr.fit(x_2,sales_2['HousePrice'])\n",
    "print('Coefficients: \\n', regr.coef_)\n",
    "print('Intercept: \\n', regr.intercept_)"
   ]
  },
  {
   "cell_type": "markdown",
   "metadata": {},
   "source": [
    "## Remove high_value outlier neighborhoods and redo analysis"
   ]
  },
  {
   "cell_type": "code",
   "execution_count": 16,
   "metadata": {},
   "outputs": [],
   "source": [
    "sales_nohighend = sales_2[sales_2['HousePrice']<350000]"
   ]
  },
  {
   "cell_type": "code",
   "execution_count": 17,
   "metadata": {},
   "outputs": [],
   "source": [
    "x_3 = np.array(sales_nohighend['CrimeRate'])\n",
    "x_3 = x_3.reshape(-1,1)"
   ]
  },
  {
   "cell_type": "code",
   "execution_count": 18,
   "metadata": {},
   "outputs": [
    {
     "name": "stdout",
     "output_type": "stream",
     "text": [
      "Coefficients: \n",
      " [-1838.56264859]\n",
      "Intercept: \n",
      " 199098.85266980447\n"
     ]
    }
   ],
   "source": [
    "regr.fit(x_3, sales_nohighend['HousePrice'])\n",
    "print('Coefficients: \\n', regr.coef_)\n",
    "print('Intercept: \\n', regr.intercept_)"
   ]
  },
  {
   "cell_type": "code",
   "execution_count": 20,
   "metadata": {},
   "outputs": [
    {
     "data": {
      "text/plain": [
       "<matplotlib.axes._subplots.AxesSubplot at 0x2a5ee46aa90>"
      ]
     },
     "execution_count": 20,
     "metadata": {},
     "output_type": "execute_result"
    },
    {
     "data": {
      "image/png": "[encoded data removed]",
      "text/plain": [
       "<Figure size 432x288 with 1 Axes>"
      ]
     },
     "metadata": {},
     "output_type": "display_data"
    }
   ],
   "source": [
    "sns.regplot(sales_nohighend['CrimeRate'],sales_nohighend['HousePrice'])"
   ]
  },
  {
   "cell_type": "code",
   "execution_count": null,
   "metadata": {},
   "outputs": [],
   "source": []
  }
 ],
 "metadata": {
  "kernelspec": {
   "display_name": "Python 3",
   "language": "python",
   "name": "python3"
  },
  "language_info": {
   "codemirror_mode": {
    "name": "ipython",
    "version": 3
   },
   "file_extension": ".py",
   "mimetype": "text/x-python",
   "name": "python",
   "nbconvert_exporter": "python",
   "pygments_lexer": "ipython3",
   "version": "3.6.5"
  }
 },
 "nbformat": 4,
 "nbformat_minor": 2
}
